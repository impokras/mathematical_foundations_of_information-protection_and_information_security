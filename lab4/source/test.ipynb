{
 "cells": [
  {
   "cell_type": "code",
   "execution_count": 12,
   "metadata": {},
   "outputs": [
    {
     "data": {
      "text/plain": [
       "(9, 9, -40)"
      ]
     },
     "execution_count": 12,
     "metadata": {},
     "output_type": "execute_result"
    }
   ],
   "source": [
    "function extended_gcd_binary(a, b)\n",
    "    g = 1\n",
    "\n",
    "    while a % 2 == 0 && b % 2 == 0\n",
    "        a = a ÷ 2\n",
    "        b = b ÷ 2\n",
    "        g = 2*g\n",
    "    end\n",
    "    \n",
    "    u = a\n",
    "    v = b\n",
    "    A = 1\n",
    "    B = 0\n",
    "    C = 0\n",
    "    D = 1\n",
    "    \n",
    "    while u!=0\n",
    "        while u % 2 == 0\n",
    "            u = u ÷ 2\n",
    "            if A % 2 == 0 && B % 2 == 0\n",
    "                A = A ÷ 2\n",
    "                B = B ÷ 2\n",
    "            else\n",
    "                A = (A + b) ÷ 2\n",
    "                B = (B - a) ÷ 2\n",
    "            end\n",
    "        end\n",
    "        \n",
    "        while v % 2 == 0\n",
    "            v = v ÷ 2\n",
    "            if C % 2 == 0 && D % 2 == 0\n",
    "                C = C ÷ 2\n",
    "                D = D ÷ 2\n",
    "            else\n",
    "                C = (C + b) ÷ 2\n",
    "                D = (D - a) ÷ 2\n",
    "            end\n",
    "        end\n",
    "        \n",
    "        if u >= v\n",
    "            u = u - v\n",
    "            A = A - C\n",
    "            B = B - D\n",
    "        else\n",
    "            v = v - u\n",
    "            C = C - A\n",
    "            D = D - B\n",
    "        end\n",
    "    end\n",
    "    \n",
    "    x = C\n",
    "    y = D\n",
    "    return (g*v, x, y)\n",
    "end\n",
    "\n",
    "a = 81\n",
    "b = 18\n",
    "\n",
    "extended_gcd_binary(a, b)"
   ]
  },
  {
   "cell_type": "code",
   "execution_count": 13,
   "metadata": {},
   "outputs": [
    {
     "data": {
      "text/plain": [
       "gcd_binary (generic function with 1 method)"
      ]
     },
     "execution_count": 13,
     "metadata": {},
     "output_type": "execute_result"
    }
   ],
   "source": [
    "function gcd_binary(a, b)\n",
    "    g = 1\n",
    "    \n",
    "        while a % 2 == 0 && b % 2 == 0\n",
    "            a = a ÷ 2\n",
    "            b = b ÷ 2\n",
    "            g = 2 * g\n",
    "        end\n",
    "\n",
    "        u, v = a, b\n",
    "        \n",
    "        while u !=0 \n",
    "            while a % 2 == 0\n",
    "                a = a ÷ 2\n",
    "            end\n",
    "            \n",
    "            while b % 2 == 0\n",
    "                b = b ÷ 2\n",
    "            end\n",
    "            \n",
    "            if u >= v\n",
    "                u = u - v\n",
    "            else\n",
    "                v = v - u\n",
    "            end\n",
    "        end\n",
    "        \n",
    "    return g * v\n",
    "end"
   ]
  },
  {
   "cell_type": "code",
   "execution_count": 14,
   "metadata": {},
   "outputs": [
    {
     "data": {
      "text/plain": [
       "9"
      ]
     },
     "execution_count": 14,
     "metadata": {},
     "output_type": "execute_result"
    }
   ],
   "source": [
    "a = 81\n",
    "b = 18\n",
    "\n",
    "gcd_binary(a, b)"
   ]
  }
 ],
 "metadata": {
  "kernelspec": {
   "display_name": "Julia 1.9.3",
   "language": "julia",
   "name": "julia-1.9"
  },
  "language_info": {
   "file_extension": ".jl",
   "mimetype": "application/julia",
   "name": "julia",
   "version": "1.9.3"
  }
 },
 "nbformat": 4,
 "nbformat_minor": 2
}
