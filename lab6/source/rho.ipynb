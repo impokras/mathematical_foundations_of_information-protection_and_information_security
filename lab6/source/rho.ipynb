{
 "cells": [
  {
   "cell_type": "code",
   "execution_count": 1,
   "metadata": {},
   "outputs": [
    {
     "name": "stdout",
     "output_type": "stream",
     "text": [
      "6, 41, 1\n",
      "41, 123939, 1\n",
      "1686, 391594, 1\n",
      "123939, 438157, 1\n",
      "435426, 582738, 1\n",
      "391594, 1144026, 1\n",
      "1090062, 885749, 1181\n",
      "Non-trivial factor of 1359331: 1181\n"
     ]
    }
   ],
   "source": [
    "function pollard_rho(n, c)\n",
    "    f(x)=(x^2+5) % n\n",
    "    a = c\n",
    "    b = c\n",
    "    \n",
    "    while true\n",
    "        a = f(a)\n",
    "        b = f(f(b))\n",
    "        d = gcd(a - b, n)\n",
    "        println(\"$a, $b, $d\")\n",
    "        \n",
    "        if 1 < d < n\n",
    "            return d\n",
    "        elseif d == n\n",
    "            return \"Error\"\n",
    "        end\n",
    "    end\n",
    "end\n",
    "\n",
    "n = 1359331\n",
    "factor = pollard_rho(n, 1)\n",
    "println(\"Non-trivial factor of $n: $factor\")"
   ]
  }
 ],
 "metadata": {
  "kernelspec": {
   "display_name": "Julia 1.9.3",
   "language": "julia",
   "name": "julia-1.9"
  },
  "language_info": {
   "file_extension": ".jl",
   "mimetype": "application/julia",
   "name": "julia",
   "version": "1.9.3"
  }
 },
 "nbformat": 4,
 "nbformat_minor": 2
}
