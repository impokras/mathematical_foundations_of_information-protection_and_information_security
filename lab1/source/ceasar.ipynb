{
 "cells": [
  {
   "cell_type": "code",
   "execution_count": 1,
   "metadata": {},
   "outputs": [
    {
     "data": {
      "text/plain": [
       "caesar (generic function with 1 method)"
      ]
     },
     "execution_count": 1,
     "metadata": {},
     "output_type": "execute_result"
    }
   ],
   "source": [
    "function caesar(text, key, encrypt)\n",
    "    alphabet = join([string(letter) for letter in 'a':'z'])\n",
    "    new_text = \"\"\n",
    "\n",
    "    for char in text\n",
    "        if char in alphabet\n",
    "                if encrypt == true\n",
    "                    new_char = alphabet[mod((findfirst(char, alphabet)) + key - 1, 26) + 1]\n",
    "                else \n",
    "                    new_char = alphabet[mod((findfirst(char, alphabet)) - key - 1, 26) + 1]\n",
    "                end\n",
    "        else \n",
    "            # println(\"Warning! Unknown symbol - \",char)\n",
    "            new_char = char\n",
    "        end\n",
    "        new_text *= string(new_char)\n",
    "    end\n",
    "    \n",
    "    return new_text\n",
    "end"
   ]
  },
  {
   "cell_type": "code",
   "execution_count": 2,
   "metadata": {},
   "outputs": [
    {
     "name": "stdout",
     "output_type": "stream",
     "text": [
      "encrypted text - whvw\n",
      "decrypted text - test\n"
     ]
    }
   ],
   "source": [
    "text = \"test\"\n",
    "key = 3\n",
    "encrypted_text = caesar(text, key, true)\n",
    "println(\"encrypted text - \", encrypted_text)\n",
    "decrypted_text = caesar(encrypted_text, key, false)\n",
    "println(\"decrypted text - \", decrypted_text)"
   ]
  }
 ],
 "metadata": {
  "kernelspec": {
   "display_name": "Julia 1.9.3",
   "language": "julia",
   "name": "julia-1.9"
  },
  "language_info": {
   "file_extension": ".jl",
   "mimetype": "application/julia",
   "name": "julia",
   "version": "1.9.3"
  }
 },
 "nbformat": 4,
 "nbformat_minor": 2
}
