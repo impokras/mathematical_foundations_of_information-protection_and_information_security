{
 "cells": [
  {
   "cell_type": "code",
   "execution_count": 1,
   "metadata": {},
   "outputs": [
    {
     "data": {
      "text/plain": [
       "atbash (generic function with 1 method)"
      ]
     },
     "execution_count": 1,
     "metadata": {},
     "output_type": "execute_result"
    }
   ],
   "source": [
    "function atbash(text)\n",
    "    alphabet = join([string(letter) for letter in 'a':'z'])\n",
    "    reversed_alphabet = reverse(alphabet)\n",
    "    new_text = \"\"\n",
    "\n",
    "    for char in text\n",
    "        if char in alphabet\n",
    "            new_char = reversed_alphabet[findfirst(char, alphabet)]\n",
    "        else \n",
    "            new_char = char\n",
    "        end\n",
    "        new_text *= string(new_char)\n",
    "    end\n",
    "    \n",
    "    return new_text\n",
    "end\n"
   ]
  },
  {
   "cell_type": "code",
   "execution_count": 2,
   "metadata": {},
   "outputs": [
    {
     "name": "stdout",
     "output_type": "stream",
     "text": [
      "hello, world!\n",
      "svool, dliow!\n",
      "hello, world!\n"
     ]
    }
   ],
   "source": [
    "text = \"hello, world!\"\n",
    "println(text)\n",
    "encrypted_text = atbash(text)\n",
    "println(encrypted_text)\n",
    "println(atbash(encrypted_text))"
   ]
  }
 ],
 "metadata": {
  "kernelspec": {
   "display_name": "Julia 1.9.3",
   "language": "julia",
   "name": "julia-1.9"
  },
  "language_info": {
   "file_extension": ".jl",
   "mimetype": "application/julia",
   "name": "julia",
   "version": "1.9.3"
  }
 },
 "nbformat": 4,
 "nbformat_minor": 2
}
