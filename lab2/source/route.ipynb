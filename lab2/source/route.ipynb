{
 "cells": [
  {
   "cell_type": "code",
   "execution_count": 1,
   "metadata": {},
   "outputs": [
    {
     "data": {
      "text/plain": [
       "route_encrypt (generic function with 1 method)"
      ]
     },
     "execution_count": 1,
     "metadata": {},
     "output_type": "execute_result"
    }
   ],
   "source": [
    "function route_encrypt(message, key, rows, cols)\n",
    "    message = filter(!isspace, message)\n",
    "    matrix = fill('_', rows, cols)\n",
    "    index = 1\n",
    "    new_message = \"\"\n",
    "    for i=1:rows\n",
    "        for j=1:cols\n",
    "            if index != rows*cols\n",
    "                matrix[i, j] = message[index]\n",
    "                index+=1\n",
    "            end\n",
    "        end\n",
    "    end\n",
    "    for j in sort(collect(key))\n",
    "        for i=1:rows\n",
    "            new_message *= (matrix[i, (findfirst(j, key))])\n",
    "        end\n",
    "    end\n",
    "    return new_message\n",
    "end\n"
   ]
  },
  {
   "cell_type": "code",
   "execution_count": 2,
   "metadata": {},
   "outputs": [
    {
     "data": {
      "text/plain": [
       "\"hamgses!iss_iteetsta\""
      ]
     },
     "execution_count": 2,
     "metadata": {},
     "output_type": "execute_result"
    }
   ],
   "source": [
    "message = \"this is a test message!\"\n",
    "rows, cols = 4, 5\n",
    "key = \"water\"\n",
    "route_encrypt(message, key, rows, cols)"
   ]
  }
 ],
 "metadata": {
  "kernelspec": {
   "display_name": "Julia 1.9.3",
   "language": "julia",
   "name": "julia-1.9"
  },
  "language_info": {
   "file_extension": ".jl",
   "mimetype": "application/julia",
   "name": "julia",
   "version": "1.9.3"
  }
 },
 "nbformat": 4,
 "nbformat_minor": 2
}
