{
 "cells": [
  {
   "cell_type": "code",
   "execution_count": 1,
   "metadata": {},
   "outputs": [
    {
     "data": {
      "text/plain": [
       "vigenere_encrypt (generic function with 1 method)"
      ]
     },
     "execution_count": 1,
     "metadata": {},
     "output_type": "execute_result"
    }
   ],
   "source": [
    "function vigenere_encrypt(text, key)\n",
    "    alphabet = 'a':'z'\n",
    "    output = \"\"\n",
    "    key_index = 1\n",
    "\n",
    "    for i in text\n",
    "        if isletter(i)\n",
    "            offset = findfirst(isequal(key[key_index]), alphabet) - 1\n",
    "            index = findfirst(isequal(i), alphabet) + offset\n",
    "            index > 26 && (index -= 26)\n",
    "            output *= alphabet[index]\n",
    "            key_index += 1\n",
    "            key_index > length(key) && (key_index = 1)\n",
    "        else\n",
    "            new_message *= i\n",
    "        end\n",
    "    end\n",
    "\n",
    "    return new_message\n",
    "end"
   ]
  },
  {
   "cell_type": "code",
   "execution_count": 2,
   "metadata": {},
   "outputs": [
    {
     "data": {
      "text/plain": [
       "\"rijvs uyvjn\""
      ]
     },
     "execution_count": 2,
     "metadata": {},
     "output_type": "execute_result"
    }
   ],
   "source": [
    "text = \"hello world\"\n",
    "key = \"key\"\n",
    "encrypted_text = vigenere_encrypt(text, key)"
   ]
  }
 ],
 "metadata": {
  "kernelspec": {
   "display_name": "Julia 1.9.3",
   "language": "julia",
   "name": "julia-1.9"
  },
  "language_info": {
   "file_extension": ".jl",
   "mimetype": "application/julia",
   "name": "julia",
   "version": "1.9.3"
  }
 },
 "nbformat": 4,
 "nbformat_minor": 2
}
