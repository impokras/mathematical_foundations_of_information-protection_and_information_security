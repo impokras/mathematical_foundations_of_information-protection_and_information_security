{
 "cells": [
  {
   "cell_type": "code",
   "execution_count": 3,
   "metadata": {},
   "outputs": [
    {
     "data": {
      "text/plain": [
       "rails_encrypt (generic function with 1 method)"
      ]
     },
     "execution_count": 3,
     "metadata": {},
     "output_type": "execute_result"
    }
   ],
   "source": [
    "function rails_encrypt(text, key, k)\n",
    "    grid = fill(\" \", 2*k, 2*k)\n",
    "    matrix = fill(\" \", k, k)\n",
    "    index=1\n",
    "    new_message = \"\"\n",
    "    text = replace(text, \" \" => \"\")\n",
    "    for i in 1:k\n",
    "        for j in 1:k\n",
    "            grid[i, j] = string(index)\n",
    "            matrix[i, j] = string(index)\n",
    "            index+=1\n",
    "        end\n",
    "    end\n",
    "    for i=1:(size(grid)[1])\n",
    "        for j=(size(grid)[1]):-1:1\n",
    "            if grid[i, j] == \" \"\n",
    "                matrix = rotr90(matrix)\n",
    "                grid[(i+k-1):-1:i, j:-1:(j-k+1)] = matrix[k:-1:1, k:-1:1]\n",
    "            end\n",
    "        end\n",
    "    end\n",
    "\n",
    "    index=1\n",
    "    arr = Vector{String}()\n",
    "\n",
    "    for r in text\n",
    "        checker = false\n",
    "        for i=1:(size(grid)[1])\n",
    "            for j=1:(size(grid)[2])\n",
    "                if grid[i, j] == string(index) && checker == false\n",
    "                    if ((string(i+1, \" \", j) ∉ arr) && (string(i-1, \" \", j) ∉ arr) && (string(i, \" \", j-1) ∉ arr) && (string(i, \" \", j+1) ∉ arr))\n",
    "                        grid[i, j] = string(r)\n",
    "                        push!(arr, string(i, \" \", j))\n",
    "                        checker = true \n",
    "                    end\n",
    "                end\n",
    "            end\n",
    "            if checker == true\n",
    "                index+=1\n",
    "                if index > k^2\n",
    "                    index = 1\n",
    "                    empty!(arr)\n",
    "                end\n",
    "                break\n",
    "            end\n",
    "        end \n",
    "    end\n",
    "    \n",
    "\n",
    "    for j in sort(collect(key))\n",
    "        for i=1:2k\n",
    "            new_message *= (grid[i, (findfirst(j, key))])\n",
    "            if  tryparse(Float64, string(last(new_message))) != nothing\n",
    "                new_message = replace(new_message, last(new_message) => ' ') \n",
    "            end\n",
    "        end\n",
    "    end\n",
    "    \n",
    "    return new_message\n",
    "\n",
    "end"
   ]
  },
  {
   "cell_type": "code",
   "execution_count": 4,
   "metadata": {},
   "outputs": [
    {
     "data": {
      "text/plain": [
       "\",lr!HNdwoeolle W\""
      ]
     },
     "execution_count": 4,
     "metadata": {},
     "output_type": "execute_result"
    }
   ],
   "source": [
    "text = \"Hello, New World!\"\n",
    "key = \"keys\"\n",
    "k = 2\n",
    "rails_encrypt(text, key, k)"
   ]
  }
 ],
 "metadata": {
  "kernelspec": {
   "display_name": "Julia 1.9.3",
   "language": "julia",
   "name": "julia-1.9"
  },
  "language_info": {
   "file_extension": ".jl",
   "mimetype": "application/julia",
   "name": "julia",
   "version": "1.9.3"
  }
 },
 "nbformat": 4,
 "nbformat_minor": 2
}
