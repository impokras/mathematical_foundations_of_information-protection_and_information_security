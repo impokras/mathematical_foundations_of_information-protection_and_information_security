{
 "cells": [
  {
   "cell_type": "code",
   "execution_count": 3,
   "metadata": {},
   "outputs": [
    {
     "name": "stdout",
     "output_type": "stream",
     "text": [
      "6047 is probably prime\n"
     ]
    }
   ],
   "source": [
    "function miller_rabin(n)\n",
    "    s = 0\n",
    "    r = n - 1\n",
    "    while r % 2 == 0\n",
    "        r = r ÷ 2\n",
    "        s += 1\n",
    "    end\n",
    "    \n",
    "    a = rand(2:n-2)\n",
    "    y = powermod(a, r, n)\n",
    "    \n",
    "    if y != 1 && y != n - 1\n",
    "        j = 1\n",
    "        while j <= s - 1 && y != n - 1\n",
    "            y = powermod(y, 2, n)\n",
    "            if y == 1\n",
    "                return \"$n is composite\"\n",
    "            end\n",
    "            j += 1\n",
    "        end\n",
    "        if y != n - 1\n",
    "            return \"$n is composite\"\n",
    "        end\n",
    "    end\n",
    "    \n",
    "    return \"$n is probably prime\"\n",
    "end\n",
    "\n",
    "n = 6047\n",
    "println(miller_rabin(n))"
   ]
  }
 ],
 "metadata": {
  "kernelspec": {
   "display_name": "Julia 1.9.3",
   "language": "julia",
   "name": "julia-1.9"
  },
  "language_info": {
   "file_extension": ".jl",
   "mimetype": "application/julia",
   "name": "julia",
   "version": "1.9.3"
  }
 },
 "nbformat": 4,
 "nbformat_minor": 2
}
