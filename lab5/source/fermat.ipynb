{
 "cells": [
  {
   "cell_type": "code",
   "execution_count": 6,
   "metadata": {},
   "outputs": [
    {
     "data": {
      "text/plain": [
       "\"11 is probably prime\""
      ]
     },
     "execution_count": 6,
     "metadata": {},
     "output_type": "execute_result"
    }
   ],
   "source": [
    "function fermat_test(n)\n",
    "    a = rand(2:n-2)\n",
    "    if powermod(a,(n-1), n) != 1\n",
    "        return \"$n is composite\"\n",
    "    end\n",
    "    return \"$n is probably prime\" \n",
    "end\n",
    "\n",
    "\n",
    "n = 11\n",
    "\n",
    "fermat_test(n)"
   ]
  }
 ],
 "metadata": {
  "kernelspec": {
   "display_name": "Julia 1.9.3",
   "language": "julia",
   "name": "julia-1.9"
  },
  "language_info": {
   "file_extension": ".jl",
   "mimetype": "application/julia",
   "name": "julia",
   "version": "1.9.3"
  }
 },
 "nbformat": 4,
 "nbformat_minor": 2
}
