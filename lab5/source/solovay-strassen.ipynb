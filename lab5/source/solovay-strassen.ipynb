{
 "cells": [
  {
   "cell_type": "code",
   "execution_count": null,
   "metadata": {},
   "outputs": [
    {
     "name": "stdout",
     "output_type": "stream",
     "text": [
      "11 is probably prime\n"
     ]
    }
   ],
   "source": [
    "function jacobi(a, n)\n",
    "    if a == 0\n",
    "        return 0\n",
    "    elseif a == 1\n",
    "        return 1\n",
    "    end\n",
    "    \n",
    "    e = 0\n",
    "    while a % 2 == 0\n",
    "        a = a ÷ 2\n",
    "        e += 1\n",
    "    end\n",
    "    \n",
    "    if e % 2 == 0\n",
    "        s = 1\n",
    "    else\n",
    "        s = n % 8 == 1 || n % 8 == 7 ? 1 : -1\n",
    "    end\n",
    "    \n",
    "    if n % 4 == 3 && a % 4 == 3\n",
    "        s = -s\n",
    "    end\n",
    "    \n",
    "    a1 = a\n",
    "    n1 = n % a1\n",
    "    \n",
    "    if a1 == 1\n",
    "        return s\n",
    "    else\n",
    "        return s * jacobi(n1, a1)\n",
    "    end\n",
    "end\n",
    "\n",
    "function solovay_strassen(n)\n",
    "\n",
    "    a = rand(2:n-2)\n",
    "    r = a^((n-1)/2) % n\n",
    "    if r != 1 && r != n-1\n",
    "        return \"$n is composite\"\n",
    "    end\n",
    "    if r != jacobi(a, n) % n\n",
    "        return \"$n is composite\"\n",
    "    end\n",
    "    \n",
    "    return \"$n is probably prime\"\n",
    "end\n",
    "\n",
    "n = 11\n",
    "println(solovay_strassen(n))\n"
   ]
  }
 ],
 "metadata": {
  "kernelspec": {
   "display_name": "Julia 1.9.3",
   "language": "julia",
   "name": "julia-1.9"
  },
  "language_info": {
   "file_extension": ".jl",
   "mimetype": "application/julia",
   "name": "julia",
   "version": "1.9.3"
  }
 },
 "nbformat": 4,
 "nbformat_minor": 2
}
