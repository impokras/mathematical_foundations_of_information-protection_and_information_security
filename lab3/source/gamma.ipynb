{
 "cells": [
  {
   "cell_type": "code",
   "execution_count": 3,
   "metadata": {},
   "outputs": [
    {
     "data": {
      "text/plain": [
       "gamma_encrypt (generic function with 1 method)"
      ]
     },
     "execution_count": 3,
     "metadata": {},
     "output_type": "execute_result"
    }
   ],
   "source": [
    "function gamma_encrypt(text, key)\n",
    "    arr = [string(i) for i in 'a':'z']; [push!(arr, string(i)) for i in 'A':'Z']; [push!(arr, string(i)) for i in 'а':'я']; [push!(arr, string(i)) for i in 'А':'Я']\n",
    "    new_text = Vector{String}()\n",
    "    index = 1\n",
    "\n",
    "    for i in eachindex(text)\n",
    "        if i > length(key)\n",
    "            if isletter(text[i])\n",
    "                c = findfirst(isequal(string(text[i])), arr) ⊻ findfirst(isequal(string(key[i-length(key)*index])), arr) \n",
    "            else\n",
    "                c = findfirst(isequal(string(key[i-length(key)*index])), arr)\n",
    "            end\n",
    "            index=i ÷ length(key)\n",
    "        else\n",
    "            if isletter(text[i])\n",
    "                c = findfirst(isequal(string(text[i])), arr) ⊻ findfirst(isequal(string(key[i])), arr)\n",
    "            else\n",
    "                c = findfirst(isequal(string(key[i])), arr)\n",
    "            end\n",
    "        end\n",
    "        push!(new_text, string(c))\n",
    "    end\n",
    "\n",
    "    return join([arr[tryparse(Int, i)] for i in new_text])\n",
    "end"
   ]
  },
  {
   "cell_type": "code",
   "execution_count": 4,
   "metadata": {},
   "outputs": [
    {
     "name": "stdout",
     "output_type": "stream",
     "text": [
      "Gmiodkrvqda\n"
     ]
    }
   ],
   "source": [
    "text = \"Hello world\"\n",
    "key = \"checkkey\"\n",
    "\n",
    "println(gamma_encrypt(text, key))"
   ]
  }
 ],
 "metadata": {
  "kernelspec": {
   "display_name": "Julia 1.9.3",
   "language": "julia",
   "name": "julia-1.9"
  },
  "language_info": {
   "file_extension": ".jl",
   "mimetype": "application/julia",
   "name": "julia",
   "version": "1.9.3"
  }
 },
 "nbformat": 4,
 "nbformat_minor": 2
}
